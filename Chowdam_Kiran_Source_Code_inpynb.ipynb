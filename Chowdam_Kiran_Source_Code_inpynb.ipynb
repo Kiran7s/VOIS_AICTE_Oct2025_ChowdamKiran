{
  "cells": [
    {
      "cell_type": "markdown",
      "source": [
        "Problem Statement: Airbnb Hotel Booking Analysis.\n",
        "\n",
        "The hospitality industry has undergone a significant transformation with the rise of online platforms facilitating short-term lodging and tourism. Leading this revolution is Airbnb, Inc., a pioneering American company that has reshaped travel accommodation through its innovative online marketplace. Established in 2008 in San Francisco, California, Airbnb provides a diverse range of lodging options, offering guests a unique and personalized experience. Unlike traditional hospitality providers, Airbnb operates on a commission-based model, facilitating transactions between hosts and guests without owning the properties listed on its platform.\n",
        "\n",
        "This research analysis delves into the New York City Airbnb dataset to extract meaningful insights. Through rigorous data cleaning, exploratory analysis, and visualization techniques, the study aims to illuminate the dynamics of the city's lodging market. By discerning factors influencing listing availability, pricing strategies, and overall customer satisfaction, the research contributes to a deeper understanding of Airbnb's operations in one of the world's most dynamic urban environments. These insights hold significance for stakeholders and enthusiasts seeking to navigate the evolving landscape of short-term accommodation..\n",
        "\n",
        "QUESTIONS\n",
        "\n",
        "This project is aimed to uncover some insights from the Airbnb Open Data. The following questions would be answered from the data.\n",
        "\n",
        "1. What are the different property types in the Dataset?\n",
        "\n",
        "2. Which neighborhood group has the highest number of listings?\n",
        "\n",
        "3. Which neighborhoods group have the highest average prices for Airbnb listings?\n",
        "\n",
        "4. Is there a relationship between the construction year of property and price?\n",
        "\n",
        "5. Who are the top 10 hosts by calculated host listing count?\n",
        "\n",
        "6. Are hosts with verified identities more likely to receive positive reviews?\n",
        "\n",
        "7. Is there a correlation between the price of a listing and its service fee?\n",
        "\n",
        "8. What is the average review rate number (e.g., stars) for listings, and does it vary based on the neighborhood group and room type?\n",
        "\n",
        "9. Are hosts with a higher calculated host listings count more likely to maintain higher availability throughout the year?"
      ],
      "metadata": {
        "id": "YBeHIUy-9PD1"
      },
      "id": "YBeHIUy-9PD1"
    },
    {
      "cell_type": "code",
      "execution_count": 2,
      "id": "9d85cd41",
      "metadata": {
        "id": "9d85cd41",
        "colab": {
          "base_uri": "https://localhost:8080/",
          "height": 217
        },
        "outputId": "324dd2b0-c80e-49ab-e658-2e074b378eee"
      },
      "outputs": [
        {
          "output_type": "error",
          "ename": "NameError",
          "evalue": "name 'read_all_sheets_from_excel' is not defined",
          "traceback": [
            "\u001b[0;31m---------------------------------------------------------------------------\u001b[0m",
            "\u001b[0;31mNameError\u001b[0m                                 Traceback (most recent call last)",
            "\u001b[0;32m/tmp/ipython-input-4024110282.py\u001b[0m in \u001b[0;36m<cell line: 0>\u001b[0;34m()\u001b[0m\n\u001b[1;32m      6\u001b[0m \u001b[0;31m# Use the provided helper to read all sheets fast\u001b[0m\u001b[0;34m\u001b[0m\u001b[0;34m\u001b[0m\u001b[0m\n\u001b[1;32m      7\u001b[0m \u001b[0mFILEPATH\u001b[0m \u001b[0;34m=\u001b[0m \u001b[0;34m'1730285881-Airbnb_Open_Data.xlsx'\u001b[0m\u001b[0;34m\u001b[0m\u001b[0;34m\u001b[0m\u001b[0m\n\u001b[0;32m----> 8\u001b[0;31m \u001b[0mdataframes\u001b[0m \u001b[0;34m=\u001b[0m \u001b[0mread_all_sheets_from_excel\u001b[0m\u001b[0;34m(\u001b[0m\u001b[0mFILEPATH\u001b[0m\u001b[0;34m)\u001b[0m\u001b[0;34m\u001b[0m\u001b[0;34m\u001b[0m\u001b[0m\n\u001b[0m\u001b[1;32m      9\u001b[0m \u001b[0;32mfor\u001b[0m \u001b[0mk\u001b[0m\u001b[0;34m,\u001b[0m \u001b[0mv\u001b[0m \u001b[0;32min\u001b[0m \u001b[0mdataframes\u001b[0m\u001b[0;34m.\u001b[0m\u001b[0mitems\u001b[0m\u001b[0;34m(\u001b[0m\u001b[0;34m)\u001b[0m\u001b[0;34m:\u001b[0m\u001b[0;34m\u001b[0m\u001b[0;34m\u001b[0m\u001b[0m\n\u001b[1;32m     10\u001b[0m     \u001b[0mprint\u001b[0m\u001b[0;34m(\u001b[0m\u001b[0;34m'dataframe: '\u001b[0m \u001b[0;34m+\u001b[0m \u001b[0mk\u001b[0m\u001b[0;34m)\u001b[0m\u001b[0;34m\u001b[0m\u001b[0;34m\u001b[0m\u001b[0m\n",
            "\u001b[0;31mNameError\u001b[0m: name 'read_all_sheets_from_excel' is not defined"
          ]
        }
      ],
      "source": [
        "# Load the Excel file using the provided helper, preview unique property types (room type)\n",
        "# Assumption: The sheet named 'in' contains the listings with a column indicating property or room type.\n",
        "from IPython.display import display\n",
        "import pandas as pd\n",
        "\n",
        "# Use the provided helper to read all sheets fast\n",
        "FILEPATH = '1730285881-Airbnb_Open_Data.xlsx'\n",
        "dataframes = read_all_sheets_from_excel(FILEPATH)\n",
        "for k, v in dataframes.items():\n",
        "    print('dataframe: ' + k)\n",
        "    print(v.head(15))\n",
        "\n",
        "# Pick the most likely sheet (use the only one present) and inspect columns for type fields\n",
        "first_sheet_name = list(dataframes.keys())[0]\n",
        "df_listings = dataframes[first_sheet_name]\n",
        "\n",
        "# Standardize column names to lower for easier access\n",
        "cols_lower = {c: c.lower() for c in df_listings.columns}\n",
        "df_listings = df_listings.rename(columns=cols_lower)\n",
        "\n",
        "# Try likely columns that describe property type\n",
        "candidate_cols = ['property type', 'property_type', 'room type', 'room_type']\n",
        "existing = [c for c in candidate_cols if c in df_listings.columns]\n",
        "\n",
        "unique_map = {}\n",
        "for c in existing:\n",
        "    vals = df_listings[c].dropna().astype(str).str.strip().unique()\n",
        "    unique_map[c] = sorted(vals.tolist())\n",
        "\n",
        "print(unique_map)\n",
        "print('Done parsing property/room types')"
      ]
    },
    {
      "cell_type": "code",
      "execution_count": null,
      "id": "2ce07fdd",
      "metadata": {
        "id": "2ce07fdd"
      },
      "outputs": [],
      "source": [
        "# Read the Excel file safely with pandas (calamine engine) and preview heads\n",
        "# This avoids the xlsx2csv parsing error and lets us inspect columns to find property or room types.\n",
        "import pandas as pd\n",
        "from IPython.display import display\n",
        "\n",
        "FILEPATH = '1730285881-Airbnb_Open_Data.xlsx'\n",
        "all_sheets = pd.read_excel(FILEPATH, sheet_name=None, engine='calamine')\n",
        "\n",
        "for name, df in all_sheets.items():\n",
        "    print('dataframe: ' + name)\n",
        "    print(df.head(15))\n",
        "\n",
        "print('Loaded sheets and displayed heads')"
      ]
    },
    {
      "cell_type": "code",
      "execution_count": 3,
      "id": "2d00ee63",
      "metadata": {
        "id": "2d00ee63",
        "colab": {
          "base_uri": "https://localhost:8080/",
          "height": 217
        },
        "outputId": "aa2ba5d2-5940-4456-8fcf-3e69e15e0603"
      },
      "outputs": [
        {
          "output_type": "error",
          "ename": "NameError",
          "evalue": "name 'all_sheets' is not defined",
          "traceback": [
            "\u001b[0;31m---------------------------------------------------------------------------\u001b[0m",
            "\u001b[0;31mNameError\u001b[0m                                 Traceback (most recent call last)",
            "\u001b[0;32m/tmp/ipython-input-2575457731.py\u001b[0m in \u001b[0;36m<cell line: 0>\u001b[0;34m()\u001b[0m\n\u001b[1;32m      6\u001b[0m \u001b[0;34m\u001b[0m\u001b[0m\n\u001b[1;32m      7\u001b[0m \u001b[0;31m# Use the loaded dataframe from the previous cell\u001b[0m\u001b[0;34m\u001b[0m\u001b[0;34m\u001b[0m\u001b[0m\n\u001b[0;32m----> 8\u001b[0;31m \u001b[0msheet_name\u001b[0m \u001b[0;34m=\u001b[0m \u001b[0mlist\u001b[0m\u001b[0;34m(\u001b[0m\u001b[0mall_sheets\u001b[0m\u001b[0;34m.\u001b[0m\u001b[0mkeys\u001b[0m\u001b[0;34m(\u001b[0m\u001b[0;34m)\u001b[0m\u001b[0;34m)\u001b[0m\u001b[0;34m[\u001b[0m\u001b[0;36m0\u001b[0m\u001b[0;34m]\u001b[0m\u001b[0;34m\u001b[0m\u001b[0;34m\u001b[0m\u001b[0m\n\u001b[0m\u001b[1;32m      9\u001b[0m \u001b[0mdf_types\u001b[0m \u001b[0;34m=\u001b[0m \u001b[0mall_sheets\u001b[0m\u001b[0;34m[\u001b[0m\u001b[0msheet_name\u001b[0m\u001b[0;34m]\u001b[0m\u001b[0;34m.\u001b[0m\u001b[0mcopy\u001b[0m\u001b[0;34m(\u001b[0m\u001b[0;34m)\u001b[0m\u001b[0;34m\u001b[0m\u001b[0;34m\u001b[0m\u001b[0m\n\u001b[1;32m     10\u001b[0m \u001b[0mdf_types\u001b[0m\u001b[0;34m.\u001b[0m\u001b[0mcolumns\u001b[0m \u001b[0;34m=\u001b[0m \u001b[0;34m[\u001b[0m\u001b[0mstr\u001b[0m\u001b[0;34m(\u001b[0m\u001b[0mc\u001b[0m\u001b[0;34m)\u001b[0m\u001b[0;34m.\u001b[0m\u001b[0mstrip\u001b[0m\u001b[0;34m(\u001b[0m\u001b[0;34m)\u001b[0m\u001b[0;34m.\u001b[0m\u001b[0mlower\u001b[0m\u001b[0;34m(\u001b[0m\u001b[0;34m)\u001b[0m \u001b[0;32mfor\u001b[0m \u001b[0mc\u001b[0m \u001b[0;32min\u001b[0m \u001b[0mdf_types\u001b[0m\u001b[0;34m.\u001b[0m\u001b[0mcolumns\u001b[0m\u001b[0;34m]\u001b[0m\u001b[0;34m\u001b[0m\u001b[0;34m\u001b[0m\u001b[0m\n",
            "\u001b[0;31mNameError\u001b[0m: name 'all_sheets' is not defined"
          ]
        }
      ],
      "source": [
        "# Find property/room types and show uniques and a simple count plot\n",
        "# We standardize columns to lower case, check for plausible type columns, show unique values, and visualize counts.\n",
        "import pandas as pd\n",
        "import matplotlib.pyplot as plt\n",
        "import seaborn as sns\n",
        "\n",
        "# Use the loaded dataframe from the previous cell\n",
        "sheet_name = list(all_sheets.keys())[0]\n",
        "df_types = all_sheets[sheet_name].copy()\n",
        "df_types.columns = [str(c).strip().lower() for c in df_types.columns]\n",
        "\n",
        "candidates = ['property type', 'property_type', 'room type', 'room_type']\n",
        "existing_cols = [c for c in candidates if c in df_types.columns]\n",
        "\n",
        "unique_vals = {}\n",
        "for c in existing_cols:\n",
        "    vals = df_types[c].dropna().astype(str).str.strip()\n",
        "    unique_vals[c] = sorted(vals.unique().tolist())\n",
        "\n",
        "print(unique_vals)\n",
        "\n",
        "# Choose the best available column to visualize (prefer property type else room type)\n",
        "chosen = None\n",
        "for c in ['property type', 'property_type', 'room type', 'room_type']:\n",
        "    if c in existing_cols:\n",
        "        chosen = c\n",
        "        break\n",
        "\n",
        "if chosen is not None:\n",
        "    counts = df_types[chosen].astype(str).str.strip().value_counts()\n",
        "    print(counts.head(20))\n",
        "    plt.figure(figsize=(6,4))\n",
        "    sns.barplot(x=counts.index, y=counts.values)\n",
        "    plt.xticks(rotation=30, ha='right')\n",
        "    plt.title('Counts by ' + chosen)\n",
        "    plt.xlabel(chosen)\n",
        "    plt.ylabel('Count')\n",
        "    plt.tight_layout()\n",
        "    plt.show()\n",
        "\n",
        "print('Computed unique property/room types and plotted counts')"
      ]
    },
    {
      "cell_type": "markdown",
      "id": "13126b0a",
      "metadata": {
        "id": "13126b0a"
      },
      "source": [
        "**ai_message:**\n",
        "\n",
        "## Property types in the dataset\n",
        "\n",
        "I looked for a dedicated property_type column, and this file captures it under the column room type. Here are the unique values and their counts, plus a quick visualization.\n",
        "\n",
        "{outputs_dict['afb421ca']}\n",
        "\n",
        "That’s the unique set from the room type column.\n",
        "\n",
        "{outputs_dict['d7b8ac41']}\n",
        "\n",
        "Those are the counts per type.\n",
        "\n",
        "{image_urls_dict['acd2794c']}\n",
        "\n",
        "Briefly: the dataset contains 4 room/property types in total, with Entire home/apt being the most common."
      ]
    },
    {
      "cell_type": "markdown",
      "id": "6bd01558",
      "metadata": {
        "id": "6bd01558"
      },
      "source": [
        "**user_message:**\n",
        "\n",
        "Which neighborhood group has the highest number of listings\n",
        "\n"
      ]
    },
    {
      "cell_type": "code",
      "execution_count": null,
      "id": "b1eda443",
      "metadata": {
        "id": "b1eda443"
      },
      "outputs": [],
      "source": [
        "# Compute which neighbourhood group has the highest number of listings\n",
        "# We reuse the already loaded all_sheets dataframe from earlier and aggregate counts by neighbourhood group.\n",
        "import pandas as pd\n",
        "import matplotlib.pyplot as plt\n",
        "import seaborn as sns\n",
        "\n",
        "sheet_name = list(all_sheets.keys())[0]\n",
        "df_ng = all_sheets[sheet_name].copy()\n",
        "df_ng.columns = [str(c).strip().lower() for c in df_ng.columns]\n",
        "\n",
        "col = 'neighbourhood group'\n",
        "if col not in df_ng.columns:\n",
        "    col = 'neighbourhood_group' if 'neighbourhood_group' in df_ng.columns else None\n",
        "\n",
        "counts = df_ng[col].astype(str).str.strip().value_counts(dropna=False)\n",
        "print(counts.head(10))\n",
        "\n",
        "plt.figure(figsize=(6,4))\n",
        "sns.barplot(x=counts.index, y=counts.values)\n",
        "plt.xticks(rotation=30, ha='right')\n",
        "plt.title('Listings by Neighbourhood Group')\n",
        "plt.xlabel('Neighbourhood Group')\n",
        "plt.ylabel('Number of listings')\n",
        "plt.tight_layout()\n",
        "plt.show()\n",
        "\n",
        "print('Aggregated listings by neighbourhood group and plotted')"
      ]
    },
    {
      "cell_type": "markdown",
      "id": "7526abb2",
      "metadata": {
        "id": "7526abb2"
      },
      "source": [
        "**ai_message:**\n",
        "\n",
        "## Neighborhood group with the most listings\n",
        "\n",
        "Here’s the count of listings by neighborhood group (table), followed by a quick bar chart for a visual read:\n",
        "\n",
        "{outputs_dict['8e607cb0']}\n",
        "\n",
        "{image_urls_dict['34939a05']}\n",
        "\n",
        "**Answer:** Manhattan has the highest number of listings, closely followed by Brooklyn. There are a few minor typos/missing entries present (e.g., brookln, manhatan, and NaN), but they don’t affect the overall ranking."
      ]
    },
    {
      "cell_type": "markdown",
      "id": "958589ed",
      "metadata": {
        "id": "958589ed"
      },
      "source": [
        "**user_message:**\n",
        "\n",
        "Which neighborhoods group have the highest average prices for Airbnb listings\n",
        "\n"
      ]
    },
    {
      "cell_type": "code",
      "execution_count": null,
      "id": "5811989d",
      "metadata": {
        "id": "5811989d"
      },
      "outputs": [],
      "source": [
        "# Compute average price by neighbourhood group and visualize\n",
        "# Reuse the loaded all_sheets dataframe and aggregate the mean of price per neighbourhood group.\n",
        "import pandas as pd\n",
        "import matplotlib.pyplot as plt\n",
        "import seaborn as sns\n",
        "\n",
        "sheet_name = list(all_sheets.keys())[0]\n",
        "df_price = all_sheets[sheet_name].copy()\n",
        "df_price.columns = [str(c).strip().lower() for c in df_price.columns]\n",
        "\n",
        "# Clean price column to numeric\n",
        "if 'price' in df_price.columns:\n",
        "    df_price['price'] = pd.to_numeric(df_price['price'], errors='coerce')\n",
        "\n",
        "ng_col = 'neighbourhood group' if 'neighbourhood group' in df_price.columns else 'neighbourhood_group'\n",
        "\n",
        "avg_price = df_price.groupby(ng_col, dropna=False)['price'].mean().sort_values(ascending=False)\n",
        "print(avg_price)\n",
        "\n",
        "plt.figure(figsize=(6,4))\n",
        "sns.barplot(x=avg_price.index, y=avg_price.values)\n",
        "plt.xticks(rotation=30, ha='right')\n",
        "plt.title('Average Price by Neighbourhood Group')\n",
        "plt.xlabel('Neighbourhood Group')\n",
        "plt.ylabel('Average price')\n",
        "plt.tight_layout()\n",
        "plt.show()\n",
        "\n",
        "print('Computed average prices by neighbourhood group and plotted')"
      ]
    },
    {
      "cell_type": "markdown",
      "id": "8b63878c",
      "metadata": {
        "id": "8b63878c"
      },
      "source": [
        "**ai_message:**\n",
        "\n",
        "## Average price by neighborhood group\n",
        "\n",
        "Here’s the table of average listing prices grouped by neighborhood group:\n",
        "\n",
        "{outputs_dict['4deec960']}\n",
        "\n",
        "And here’s a quick visual to compare them at a glance:\n",
        "\n",
        "{image_urls_dict['4e4a2504']}\n",
        "\n",
        "Briefly: Queens comes out on top among the main NYC groups, with Manhattan lowest in this dataset. There are a couple of messy labels (e.g., None, brookln, manhatan) that likely reflect missing or misspelled entries; cleaning those would refine the ranking further."
      ]
    },
    {
      "cell_type": "markdown",
      "id": "2e9e7edf",
      "metadata": {
        "id": "2e9e7edf"
      },
      "source": [
        "**user_message:**\n",
        "\n",
        "What other factors relate to demand?"
      ]
    },
    {
      "cell_type": "markdown",
      "id": "7f884a47",
      "metadata": {
        "id": "7f884a47"
      },
      "source": [
        "**ai_message:**\n",
        "\n",
        "## Factors that relate to demand for Airbnb listings\n",
        "\n",
        "Assuming demand is reflected by proxies in this dataset like number of reviews, reviews per month, review rate number, availability 365, minimum nights, price, room type, neighborhood group, and last review timing, here are key drivers we can analyze:\n",
        "\n",
        "- Price: Demand typically decreases as price increases, but the relationship can be non-linear and vary by room type and neighborhood.\n",
        "- Room type: Entire home/apt vs Private room vs Shared room vs Hotel room often have different demand profiles; Entire homes tend to be popular for longer stays and families.\n",
        "- Neighborhood group and neighborhood: Location is a major driver (e.g., proximity to attractions, transit). We’ve already seen Manhattan and Brooklyn dominate in counts, but price-adjusted demand may differ.\n",
        "- Reviews per month: A strong proxy for active demand flow; higher values indicate more recent/ongoing bookings.\n",
        "- Number of reviews and review rate number: Social proof tends to increase demand; listings with more reviews and higher ratings attract more bookings.\n",
        "- Availability 365: Lower availability often indicates higher occupancy (higher demand), though host blocking can confound it.\n",
        "- Minimum nights: Higher minimums can reduce demand except for extended-stay segments.\n",
        "- Instant bookable: Reduces friction; generally boosts conversion and thus demand.\n",
        "- Cancellation policy: Flexible policies tend to increase bookings compared to strict ones.\n",
        "- Seasonality/time since last review: Recent last_review and higher reviews per month point to current demand; demand may be seasonal.\n",
        "\n",
        "If you’d like, I can run a quick exploratory analysis on this file to quantify:\n",
        "- Correlations between demand proxies (reviews_per_month, number_of_reviews, availability_365) and features (price, room type, neighborhood group, min nights, instant bookable, cancellation policy).\n",
        "- Simple visualizations (e.g., reviews_per_month vs price, split by room type and neighborhood group).\n",
        "- A basic regression to see which features most strongly relate to reviews_per_month as a demand proxy.\n",
        "\n",
        "Say the word, and I’ll compute the plots and summaries."
      ]
    },
    {
      "cell_type": "markdown",
      "id": "89ec62de",
      "metadata": {
        "id": "89ec62de"
      },
      "source": [
        "**user_message:**\n",
        "\n",
        "Is there a relationship between the construction year of property and price?\n",
        "\n"
      ]
    },
    {
      "cell_type": "code",
      "execution_count": null,
      "id": "6d35f854",
      "metadata": {
        "id": "6d35f854"
      },
      "outputs": [],
      "source": [
        "# Analyze relationship between construction year and price\n",
        "# We will compute correlation and show a scatterplot with a regression line.\n",
        "import pandas as pd\n",
        "import matplotlib.pyplot as plt\n",
        "import seaborn as sns\n",
        "\n",
        "sheet_name = list(all_sheets.keys())[0]\n",
        "df = all_sheets[sheet_name].copy()\n",
        "df.columns = [str(c).strip().lower() for c in df.columns]\n",
        "\n",
        "# Clean numeric fields\n",
        "df['price'] = pd.to_numeric(df.get('price'), errors='coerce')\n",
        "df['construction year'] = pd.to_numeric(df.get('construction year'), errors='coerce')\n",
        "\n",
        "# Drop unreasonable years\n",
        "df = df[(df['construction year'] >= 1800) & (df['construction year'] <= 2025)]\n",
        "\n",
        "print(df[['construction year','price']].dropna().head())\n",
        "\n",
        "plt.figure(figsize=(6,4))\n",
        "sns.regplot(data=df, x='construction year', y='price', scatter_kws={'alpha':0.15}, line_kws={'color':'red'})\n",
        "plt.title('Price vs Construction Year')\n",
        "plt.xlabel('Construction Year')\n",
        "plt.ylabel('Price')\n",
        "plt.tight_layout()\n",
        "plt.show()\n",
        "\n",
        "corr = df[['construction year','price']].corr().iloc[0,1]\n",
        "print(corr)\n",
        "\n",
        "print('Computed correlation and plotted regression of price vs construction year')"
      ]
    },
    {
      "cell_type": "markdown",
      "id": "8cfa6b85",
      "metadata": {
        "id": "8cfa6b85"
      },
      "source": [
        "**ai_message:**\n",
        "\n",
        "## Price vs. Construction Year\n",
        "\n",
        "Here’s a quick peek at a few rows of the fields used for this analysis (construction year and price):\n",
        "{outputs_dict['946b520d']}\n",
        "\n",
        "And here’s the scatter with a fitted regression line:\n",
        "{image_urls_dict['afe87f0d']}\n",
        "\n",
        "For reference, here’s the computed correlation between construction year and price:\n",
        "{outputs_dict['7cccb421']}\n",
        "\n",
        "Summary: The relationship appears essentially flat (near-zero correlation), suggesting construction year in this dataset does not meaningfully explain price once taken on its own."
      ]
    },
    {
      "cell_type": "markdown",
      "id": "2f389b0f",
      "metadata": {
        "id": "2f389b0f"
      },
      "source": [
        "**user_message:**\n",
        "\n",
        " Who are the top 10 hosts by calculated host listing count?\n"
      ]
    },
    {
      "cell_type": "code",
      "execution_count": 4,
      "id": "3abf1a0c",
      "metadata": {
        "id": "3abf1a0c",
        "colab": {
          "base_uri": "https://localhost:8080/",
          "height": 217
        },
        "outputId": "d85fac33-5c67-4f77-c297-129186d9fcdf"
      },
      "outputs": [
        {
          "output_type": "error",
          "ename": "NameError",
          "evalue": "name 'all_sheets' is not defined",
          "traceback": [
            "\u001b[0;31m---------------------------------------------------------------------------\u001b[0m",
            "\u001b[0;31mNameError\u001b[0m                                 Traceback (most recent call last)",
            "\u001b[0;32m/tmp/ipython-input-42445488.py\u001b[0m in \u001b[0;36m<cell line: 0>\u001b[0;34m()\u001b[0m\n\u001b[1;32m      5\u001b[0m \u001b[0;32mimport\u001b[0m \u001b[0mseaborn\u001b[0m \u001b[0;32mas\u001b[0m \u001b[0msns\u001b[0m\u001b[0;34m\u001b[0m\u001b[0;34m\u001b[0m\u001b[0m\n\u001b[1;32m      6\u001b[0m \u001b[0;34m\u001b[0m\u001b[0m\n\u001b[0;32m----> 7\u001b[0;31m \u001b[0msheet_name\u001b[0m \u001b[0;34m=\u001b[0m \u001b[0mlist\u001b[0m\u001b[0;34m(\u001b[0m\u001b[0mall_sheets\u001b[0m\u001b[0;34m.\u001b[0m\u001b[0mkeys\u001b[0m\u001b[0;34m(\u001b[0m\u001b[0;34m)\u001b[0m\u001b[0;34m)\u001b[0m\u001b[0;34m[\u001b[0m\u001b[0;36m0\u001b[0m\u001b[0;34m]\u001b[0m\u001b[0;34m\u001b[0m\u001b[0;34m\u001b[0m\u001b[0m\n\u001b[0m\u001b[1;32m      8\u001b[0m \u001b[0mdf_hosts\u001b[0m \u001b[0;34m=\u001b[0m \u001b[0mall_sheets\u001b[0m\u001b[0;34m[\u001b[0m\u001b[0msheet_name\u001b[0m\u001b[0;34m]\u001b[0m\u001b[0;34m.\u001b[0m\u001b[0mcopy\u001b[0m\u001b[0;34m(\u001b[0m\u001b[0;34m)\u001b[0m\u001b[0;34m\u001b[0m\u001b[0;34m\u001b[0m\u001b[0m\n\u001b[1;32m      9\u001b[0m \u001b[0mdf_hosts\u001b[0m\u001b[0;34m.\u001b[0m\u001b[0mcolumns\u001b[0m \u001b[0;34m=\u001b[0m \u001b[0;34m[\u001b[0m\u001b[0mstr\u001b[0m\u001b[0;34m(\u001b[0m\u001b[0mc\u001b[0m\u001b[0;34m)\u001b[0m\u001b[0;34m.\u001b[0m\u001b[0mstrip\u001b[0m\u001b[0;34m(\u001b[0m\u001b[0;34m)\u001b[0m\u001b[0;34m.\u001b[0m\u001b[0mlower\u001b[0m\u001b[0;34m(\u001b[0m\u001b[0;34m)\u001b[0m \u001b[0;32mfor\u001b[0m \u001b[0mc\u001b[0m \u001b[0;32min\u001b[0m \u001b[0mdf_hosts\u001b[0m\u001b[0;34m.\u001b[0m\u001b[0mcolumns\u001b[0m\u001b[0;34m]\u001b[0m\u001b[0;34m\u001b[0m\u001b[0;34m\u001b[0m\u001b[0m\n",
            "\u001b[0;31mNameError\u001b[0m: name 'all_sheets' is not defined"
          ]
        }
      ],
      "source": [
        "# Top 10 hosts by calculated_host_listings_count with a quick bar chart\n",
        "# Reuse loaded all_sheets, aggregate by host_id/host_name to get max calculated_host_listings_count and sort\n",
        "import pandas as pd\n",
        "import matplotlib.pyplot as plt\n",
        "import seaborn as sns\n",
        "\n",
        "sheet_name = list(all_sheets.keys())[0]\n",
        "df_hosts = all_sheets[sheet_name].copy()\n",
        "df_hosts.columns = [str(c).strip().lower() for c in df_hosts.columns]\n",
        "\n",
        "# Ensure numeric\n",
        "df_hosts['calculated_host_listings_count'] = pd.to_numeric(df_hosts.get('calculated_host_listings_count'), errors='coerce')\n",
        "\n",
        "agg = (df_hosts.groupby(['host_id','host_name'], dropna=False)['calculated_host_listings_count']\n",
        "       .max()\n",
        "       .reset_index()\n",
        "       .sort_values('calculated_host_listings_count', ascending=False)\n",
        "       .head(10))\n",
        "print(agg)\n",
        "\n",
        "plt.figure(figsize=(7,4))\n",
        "sns.barplot(data=agg, x='host_name', y='calculated_host_listings_count')\n",
        "plt.xticks(rotation=45, ha='right')\n",
        "plt.title('Top 10 Hosts by Calculated Host Listings Count')\n",
        "plt.xlabel('Host')\n",
        "plt.ylabel('Listings count')\n",
        "plt.tight_layout()\n",
        "plt.show()\n",
        "\n",
        "print('Computed top 10 hosts by calculated_host_listings_count and plotted')"
      ]
    },
    {
      "cell_type": "code",
      "execution_count": null,
      "id": "8df45634",
      "metadata": {
        "id": "8df45634"
      },
      "outputs": [],
      "source": [
        "# Inspect columns to find host identifier/name and calculated host listings count\n",
        "import pandas as pd\n",
        "sheet_name = list(all_sheets.keys())[0]\n",
        "df_hosts = all_sheets[sheet_name].copy()\n",
        "df_hosts.columns = [str(c).strip().lower() for c in df_hosts.columns]\n",
        "print(df_hosts.columns.tolist())\n",
        "print(df_hosts.head())"
      ]
    },
    {
      "cell_type": "code",
      "execution_count": null,
      "id": "c72d6d05",
      "metadata": {
        "id": "c72d6d05"
      },
      "outputs": [],
      "source": [
        "# Compute top 10 hosts by calculated host listings count and visualize\n",
        "# Columns use spaces (host id, host name, calculated host listings count), so handle accordingly\n",
        "import pandas as pd\n",
        "import matplotlib.pyplot as plt\n",
        "import seaborn as sns\n",
        "\n",
        "sheet_name = list(all_sheets.keys())[0]\n",
        "df = all_sheets[sheet_name].copy()\n",
        "df.columns = [str(c).strip().lower() for c in df.columns]\n",
        "\n",
        "df['calculated host listings count'] = pd.to_numeric(df.get('calculated host listings count'), errors='coerce')\n",
        "\n",
        "agg = (df.groupby(['host id','host name'], dropna=False)['calculated host listings count']\n",
        "         .max().reset_index()\n",
        "         .sort_values('calculated host listings count', ascending=False)\n",
        "         .head(10))\n",
        "print(agg)\n",
        "\n",
        "plt.figure(figsize=(8,4))\n",
        "sns.barplot(data=agg, x='host name', y='calculated host listings count')\n",
        "plt.xticks(rotation=45, ha='right')\n",
        "plt.title('Top 10 Hosts by Calculated Host Listings Count')\n",
        "plt.xlabel('Host')\n",
        "plt.ylabel('Listings count')\n",
        "plt.tight_layout()\n",
        "plt.show()\n",
        "\n",
        "print('Computed and plotted top 10 hosts by calculated host listings count')"
      ]
    },
    {
      "cell_type": "markdown",
      "id": "c52d39b8",
      "metadata": {
        "id": "c52d39b8"
      },
      "source": [
        "**ai_message:**\n",
        "\n",
        "## Top 10 hosts by calculated host listings count\n",
        "\n",
        "Here are the top hosts based on the maximum calculated host listings count observed per host:\n",
        "{outputs_dict['62cd8c44']}\n",
        "\n",
        "And a quick visualization of those top hosts:\n",
        "{image_urls_dict['057b394f']}\n",
        "\n",
        "Looks like a single professional host entity dominates the top slots in this sample, indicating a large multi-listing operator."
      ]
    },
    {
      "cell_type": "markdown",
      "id": "4e79f329",
      "metadata": {
        "id": "4e79f329"
      },
      "source": [
        "**user_message:**\n",
        "\n",
        " Are hosts with verified identities more likely to receive positive reviews"
      ]
    },
    {
      "cell_type": "code",
      "execution_count": null,
      "id": "6edce984",
      "metadata": {
        "id": "6edce984"
      },
      "outputs": [],
      "source": [
        "# Analyze whether verified hosts receive higher review ratings\n",
        "# We will compare review rate number by host_identity_verified status and visualize\n",
        "import pandas as pd\n",
        "import matplotlib.pyplot as plt\n",
        "import seaborn as sns\n",
        "\n",
        "sheet_name = list(all_sheets.keys())[0]\n",
        "df = all_sheets[sheet_name].copy()\n",
        "df.columns = [str(c).strip().lower() for c in df.columns]\n",
        "\n",
        "# Prepare data\n",
        "df['review rate number'] = pd.to_numeric(df.get('review rate number'), errors='coerce')\n",
        "verified_map = {\n",
        "    'verified': 'verified',\n",
        "    'unconfirmed': 'unverified',\n",
        "    'NaN': 'unknown',\n",
        "    None: 'unknown'\n",
        "}\n",
        "df['host_identity_verified'] = df['host_identity_verified'].astype(str).str.lower()\n",
        "df['verified_status'] = df['host_identity_verified'].map(verified_map).fillna(df['host_identity_verified'])\n",
        "\n",
        "summary = df.groupby('verified_status', dropna=False)['review rate number'].agg(['count','mean','median']).reset_index()\n",
        "print(summary.head())\n",
        "\n",
        "plt.figure(figsize=(6,4))\n",
        "sns.boxplot(data=df, x='verified_status', y='review rate number', order=['verified','unverified','unknown'])\n",
        "plt.title('Review ratings by host identity verification status')\n",
        "plt.xlabel('Verification status')\n",
        "plt.ylabel('Review rating (stars)')\n",
        "plt.tight_layout()\n",
        "plt.show()\n",
        "\n",
        "print('Computed summary stats and plotted distribution by verification status')"
      ]
    },
    {
      "cell_type": "markdown",
      "id": "4641681f",
      "metadata": {
        "id": "4641681f"
      },
      "source": [
        "**ai_message:**\n",
        "\n",
        "## Are verified hosts more likely to receive positive reviews?\n",
        "\n",
        "Here are the summary stats comparing review ratings by host identity verification status:\n",
        "{outputs_dict['3813a776']}\n",
        "\n",
        "And here’s the distribution comparison:\n",
        "{image_urls_dict['ded6cf0c']}\n",
        "\n",
        "**Takeaway**\n",
        "- Verified hosts have a slightly higher average review rating than unverified hosts, but the difference is very small. Practically, verification status alone does not strongly predict better reviews. Other factors (location, cleanliness, accuracy, responsiveness, etc.) likely matter much more."
      ]
    },
    {
      "cell_type": "markdown",
      "id": "cad906f0",
      "metadata": {
        "id": "cad906f0"
      },
      "source": [
        "**user_message:**\n",
        "\n",
        "Is there a correlation between the price of a listing and its service fee"
      ]
    },
    {
      "cell_type": "code",
      "execution_count": 5,
      "id": "022a9867",
      "metadata": {
        "id": "022a9867",
        "colab": {
          "base_uri": "https://localhost:8080/",
          "height": 217
        },
        "outputId": "195ab61c-438f-4d68-c6d9-40c22622e273"
      },
      "outputs": [
        {
          "output_type": "error",
          "ename": "NameError",
          "evalue": "name 'all_sheets' is not defined",
          "traceback": [
            "\u001b[0;31m---------------------------------------------------------------------------\u001b[0m",
            "\u001b[0;31mNameError\u001b[0m                                 Traceback (most recent call last)",
            "\u001b[0;32m/tmp/ipython-input-1959964079.py\u001b[0m in \u001b[0;36m<cell line: 0>\u001b[0;34m()\u001b[0m\n\u001b[1;32m      4\u001b[0m \u001b[0;32mimport\u001b[0m \u001b[0mseaborn\u001b[0m \u001b[0;32mas\u001b[0m \u001b[0msns\u001b[0m\u001b[0;34m\u001b[0m\u001b[0;34m\u001b[0m\u001b[0m\n\u001b[1;32m      5\u001b[0m \u001b[0;34m\u001b[0m\u001b[0m\n\u001b[0;32m----> 6\u001b[0;31m \u001b[0msheet_name\u001b[0m \u001b[0;34m=\u001b[0m \u001b[0mlist\u001b[0m\u001b[0;34m(\u001b[0m\u001b[0mall_sheets\u001b[0m\u001b[0;34m.\u001b[0m\u001b[0mkeys\u001b[0m\u001b[0;34m(\u001b[0m\u001b[0;34m)\u001b[0m\u001b[0;34m)\u001b[0m\u001b[0;34m[\u001b[0m\u001b[0;36m0\u001b[0m\u001b[0;34m]\u001b[0m\u001b[0;34m\u001b[0m\u001b[0;34m\u001b[0m\u001b[0m\n\u001b[0m\u001b[1;32m      7\u001b[0m \u001b[0mdf_price\u001b[0m \u001b[0;34m=\u001b[0m \u001b[0mall_sheets\u001b[0m\u001b[0;34m[\u001b[0m\u001b[0msheet_name\u001b[0m\u001b[0;34m]\u001b[0m\u001b[0;34m.\u001b[0m\u001b[0mcopy\u001b[0m\u001b[0;34m(\u001b[0m\u001b[0;34m)\u001b[0m\u001b[0;34m\u001b[0m\u001b[0;34m\u001b[0m\u001b[0m\n\u001b[1;32m      8\u001b[0m \u001b[0mdf_price\u001b[0m\u001b[0;34m.\u001b[0m\u001b[0mcolumns\u001b[0m \u001b[0;34m=\u001b[0m \u001b[0;34m[\u001b[0m\u001b[0mstr\u001b[0m\u001b[0;34m(\u001b[0m\u001b[0mc\u001b[0m\u001b[0;34m)\u001b[0m\u001b[0;34m.\u001b[0m\u001b[0mstrip\u001b[0m\u001b[0;34m(\u001b[0m\u001b[0;34m)\u001b[0m\u001b[0;34m.\u001b[0m\u001b[0mlower\u001b[0m\u001b[0;34m(\u001b[0m\u001b[0;34m)\u001b[0m \u001b[0;32mfor\u001b[0m \u001b[0mc\u001b[0m \u001b[0;32min\u001b[0m \u001b[0mdf_price\u001b[0m\u001b[0;34m.\u001b[0m\u001b[0mcolumns\u001b[0m\u001b[0;34m]\u001b[0m\u001b[0;34m\u001b[0m\u001b[0;34m\u001b[0m\u001b[0m\n",
            "\u001b[0;31mNameError\u001b[0m: name 'all_sheets' is not defined"
          ]
        }
      ],
      "source": [
        "# Examine correlation between listing price and service fee with scatter and correlation stats\n",
        "import pandas as pd\n",
        "import matplotlib.pyplot as plt\n",
        "import seaborn as sns\n",
        "\n",
        "sheet_name = list(all_sheets.keys())[0]\n",
        "df_price = all_sheets[sheet_name].copy()\n",
        "df_price.columns = [str(c).strip().lower() for c in df_price.columns]\n",
        "\n",
        "# Coerce numeric and drop obvious nonpositive anomalies\n",
        "for col in ['price','service fee']:\n",
        "    df_price[col] = pd.to_numeric(df_price.get(col), errors='coerce')\n",
        "\n",
        "subset = df_price[['price','service fee']].dropna()\n",
        "\n",
        "corr = subset['price'].corr(subset['service fee'])\n",
        "print(corr)\n",
        "\n",
        "plt.figure(figsize=(6,5))\n",
        "sns.scatterplot(data=subset.sample(min(5000, len(subset)), random_state=42), x='price', y='service fee', alpha=0.4, s=15)\n",
        "plt.title('Price vs Service Fee (sample)')\n",
        "plt.xlabel('Price')\n",
        "plt.ylabel('Service fee')\n",
        "plt.tight_layout()\n",
        "plt.show()\n",
        "\n",
        "print('Computed Pearson correlation and plotted scatter of a sample')"
      ]
    },
    {
      "cell_type": "markdown",
      "id": "7142edfe",
      "metadata": {
        "id": "7142edfe"
      },
      "source": [
        "**ai_message:**\n",
        "\n",
        "## Correlation between listing price and service fee\n",
        "\n",
        "Here’s the Pearson correlation coefficient I computed:\n",
        "{outputs_dict['6f58e3c0']}\n",
        "\n",
        "And a scatter plot (sampled) to visualize the relationship:\n",
        "{image_urls_dict['1eda5f88']}\n",
        "\n",
        "{outputs_dict['3d6f5f9f']}\n",
        "\n",
        "**Summary**\n",
        "- The correlation is essentially perfect positive, which strongly suggests the service fee scales almost linearly with the listing price in this dataset. This likely reflects a fee set as a percentage of price (or very close to it)."
      ]
    },
    {
      "cell_type": "markdown",
      "id": "7eda4a1d",
      "metadata": {
        "id": "7eda4a1d"
      },
      "source": [
        "**user_message:**\n",
        "\n",
        "What is the average review rate number (e.g., stars) for listings, and does it vary based on the neighborhood group and room type\n"
      ]
    },
    {
      "cell_type": "code",
      "execution_count": null,
      "id": "997173fa",
      "metadata": {
        "id": "997173fa"
      },
      "outputs": [],
      "source": [
        "# Compute average review rating overall, and by neighborhood group and room type; visualize\n",
        "import pandas as pd\n",
        "import matplotlib.pyplot as plt\n",
        "import seaborn as sns\n",
        "\n",
        "sheet_name = list(all_sheets.keys())[0]\n",
        "df = all_sheets[sheet_name].copy()\n",
        "df.columns = [str(c).strip().lower() for c in df.columns]\n",
        "\n",
        "# Numeric coercion and drop NaNs for rating\n",
        "df['review rate number'] = pd.to_numeric(df.get('review rate number'), errors='coerce')\n",
        "\n",
        "overall_mean = df['review rate number'].mean()\n",
        "print(overall_mean)\n",
        "\n",
        "by_neigh = df.groupby('neighbourhood group', dropna=False)['review rate number'].mean().reset_index()\n",
        "print(by_neigh.head())\n",
        "\n",
        "by_room = df.groupby('room type', dropna=False)['review rate number'].mean().reset_index()\n",
        "print(by_room.head())\n",
        "\n",
        "# Heatmap by neighborhood group x room type\n",
        "pivot = df.pivot_table(index='neighbourhood group', columns='room type', values='review rate number', aggfunc='mean')\n",
        "print(pivot.head())\n",
        "\n",
        "plt.figure(figsize=(8,5))\n",
        "sns.heatmap(pivot, annot=True, fmt='.2f', cmap='viridis')\n",
        "plt.title('Average review rating by neighborhood group and room type')\n",
        "plt.xlabel('Room type')\n",
        "plt.ylabel('Neighborhood group')\n",
        "plt.tight_layout()\n",
        "plt.show()\n",
        "\n",
        "print('Computed averages and plotted heatmap')"
      ]
    },
    {
      "cell_type": "markdown",
      "id": "95f63428",
      "metadata": {
        "id": "95f63428"
      },
      "source": [
        "**ai_message:**\n",
        "\n",
        "## Average review rate number and variation by neighborhood group and room type\n",
        "\n",
        "Here’s the overall average review rating (stars) across all listings:\n",
        "{outputs_dict['6f0cfb4d']}\n",
        "\n",
        "By neighborhood group (mean stars):\n",
        "{outputs_dict['2dbb60c4']}\n",
        "\n",
        "By room type (mean stars):\n",
        "{outputs_dict['b8ba9dd2']}\n",
        "\n",
        "Average by both neighborhood group and room type (heatmap values shown here too):\n",
        "{outputs_dict['3883ddf5']}\n",
        "{image_urls_dict['48bc8a39']}\n",
        "\n",
        "Brief takeaways:\n",
        "- Overall average rating is around the low 3s in this dataset.\n",
        "- There are modest differences across neighborhood groups and room types, but nothing extreme.\n",
        "- Hotel rooms tend to have slightly higher averages; some boroughs show a touch higher ratings than others."
      ]
    },
    {
      "cell_type": "markdown",
      "id": "e77d69f6",
      "metadata": {
        "id": "e77d69f6"
      },
      "source": [
        "**user_message:**\n",
        "\n",
        "Are hosts with a higher calculated host listings count more likely to maintain higher availability throughout the year?"
      ]
    },
    {
      "cell_type": "code",
      "execution_count": null,
      "id": "c10022cc",
      "metadata": {
        "id": "c10022cc"
      },
      "outputs": [],
      "source": [
        "# Assess whether hosts with more listings tend to have higher availability\n",
        "# We will correlate calculated host listings count with availability_365 and visualize\n",
        "import pandas as pd\n",
        "import matplotlib.pyplot as plt\n",
        "import seaborn as sns\n",
        "\n",
        "sheet_name = list(all_sheets.keys())[0]\n",
        "df = all_sheets[sheet_name].copy()\n",
        "df.columns = [str(c).strip().lower() for c in df.columns]\n",
        "\n",
        "# Coerce numeric\n",
        "df['calculated host listings count'] = pd.to_numeric(df.get('calculated host listings count'), errors='coerce')\n",
        "df['availability 365'] = pd.to_numeric(df.get('availability 365'), errors='coerce')\n",
        "\n",
        "subset = df[['calculated host listings count','availability 365']].dropna()\n",
        "\n",
        "pearson = subset['calculated host listings count'].corr(subset['availability 365'])\n",
        "spearman = subset['calculated host listings count'].corr(subset['availability 365'], method='spearman')\n",
        "print(pearson)\n",
        "print(spearman)\n",
        "\n",
        "# Scatter with trend line (sample for speed)\n",
        "sample_df = subset.sample(min(8000, len(subset)), random_state=42)\n",
        "plt.figure(figsize=(7,5))\n",
        "sns.regplot(data=sample_df, x='calculated host listings count', y='availability 365', scatter_kws={'alpha':0.25, 's':12}, line_kws={'color':'red'})\n",
        "plt.title('Listings count vs Availability (days/year)')\n",
        "plt.xlabel('Calculated host listings count')\n",
        "plt.ylabel('Availability 365')\n",
        "plt.tight_layout()\n",
        "plt.show()\n",
        "\n",
        "print('Computed Pearson and Spearman correlations and plotted regplot')"
      ]
    },
    {
      "cell_type": "markdown",
      "id": "bade76ff",
      "metadata": {
        "id": "bade76ff"
      },
      "source": [
        "**ai_message:**\n",
        "\n",
        "## Do multi-listing hosts keep higher availability?\n",
        "\n",
        "Here are the correlation coefficients between a host’s calculated listings count and the listing’s availability (days per year). First is Pearson (linear), second is Spearman (rank/monotonic):\n",
        "{outputs_dict['e034db95']}\n",
        "{outputs_dict['1f4e68be']}\n",
        "\n",
        "And here’s a quick scatter with a trend line (sampled):\n",
        "{image_urls_dict['f7ac3271']}\n",
        "\n",
        "{outputs_dict['40448180']}\n",
        "\n",
        "### TL;DR\n",
        "- There’s a weak positive relationship: hosts with more listings tend to have slightly higher availability, but the effect is small. This suggests professional/multi-listing hosts may keep calendars more open on average, though the difference isn’t strong."
      ]
    }
  ],
  "metadata": {
    "colab": {
      "provenance": [],
      "gpuType": "T4"
    },
    "accelerator": "GPU",
    "language_info": {
      "name": "python"
    },
    "kernelspec": {
      "name": "python3",
      "display_name": "Python 3"
    }
  },
  "nbformat": 4,
  "nbformat_minor": 5
}